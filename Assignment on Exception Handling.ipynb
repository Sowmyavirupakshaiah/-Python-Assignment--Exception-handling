{
 "cells": [
  {
   "cell_type": "markdown",
   "id": "4fc4a1dc",
   "metadata": {},
   "source": [
    "# Program to print the reciprocal of even numbers"
   ]
  },
  {
   "cell_type": "code",
   "execution_count": 1,
   "id": "91c955a6",
   "metadata": {},
   "outputs": [
    {
     "name": "stdout",
     "output_type": "stream",
     "text": [
      "Enter a number: 26\n",
      "0.038461538461538464\n"
     ]
    }
   ],
   "source": [
    "num = int(input(\"Enter a number: \"))\n",
    "\n",
    "try:\n",
    "    assert num % 2 == 0\n",
    "    reciprocal = 1/num\n",
    "    print(reciprocal)\n",
    "\n",
    "except ZeroDivisionError:\n",
    "    print(err)\n",
    "\n",
    "except:\n",
    "    print(\"Not an even number!\")"
   ]
  }
 ],
 "metadata": {
  "kernelspec": {
   "display_name": "Python 3 (ipykernel)",
   "language": "python",
   "name": "python3"
  },
  "language_info": {
   "codemirror_mode": {
    "name": "ipython",
    "version": 3
   },
   "file_extension": ".py",
   "mimetype": "text/x-python",
   "name": "python",
   "nbconvert_exporter": "python",
   "pygments_lexer": "ipython3",
   "version": "3.9.7"
  }
 },
 "nbformat": 4,
 "nbformat_minor": 5
}
